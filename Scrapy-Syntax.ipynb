{
 "cells": [
  {
   "cell_type": "markdown",
   "metadata": {},
   "source": [
    "# Basic Webscraping using Scrapy\n",
    "\n",
    "This code can not be executed in this environment and is here just as convenient lookup."
   ]
  },
  {
   "cell_type": "code",
   "execution_count": null,
   "metadata": {
    "collapsed": true
   },
   "outputs": [],
   "source": [
    "# Start a Scrapy Shell Session\n",
    "scrapy shell -s USER_AGENT='Mozilla/5.0' http://www.nytimes.com"
   ]
  },
  {
   "cell_type": "code",
   "execution_count": null,
   "metadata": {
    "collapsed": true
   },
   "outputs": [],
   "source": [
    "# Extracting the response type\n",
    "response.status\n",
    "\n",
    "# Extracting a title\n",
    "response.css('h1::text').extract()\n",
    "\n",
    "# Extracting a subtitle\n",
    "response.css('h2::text').extract()\n",
    "\n",
    "# Extracting all urls from the links using .css()\n",
    "response.css('a::attr(href)').extract()\n",
    "\n",
    "# Extracting all urls from the links using .css()\n",
    "response.css('a').xpath('@href').extract()\n",
    "\n",
    "# Extracting all images from the page\n",
    "response.css('img::attr(src)').extract()"
   ]
  },
  {
   "cell_type": "markdown",
   "metadata": {},
   "source": [
    "## Subsetting selectors based on attributes\n",
    "\n",
    "Best to use the .css() selector to subset on attribute and then query with xpath to retrieve information. "
   ]
  },
  {
   "cell_type": "code",
   "execution_count": null,
   "metadata": {
    "collapsed": true
   },
   "outputs": [],
   "source": [
    "# Selecting all images where the href attribute contains the part 'image'\n",
    "response.css('a[href*=image]::attr(href)').extract"
   ]
  },
  {
   "cell_type": "code",
   "execution_count": null,
   "metadata": {
    "collapsed": true
   },
   "outputs": [],
   "source": [
    "# Regular Expression method returns unicode strings as result and can not be chained\n",
    "response.css('a[href*=image]::text').re(r'Name:\\s*(.*)')\n",
    "\n",
    "# Only the first result\n",
    "response.css('a[href*=image]::text').re_first(r'Name:\\s*(.*)')\n",
    "\n",
    "# "
   ]
  },
  {
   "cell_type": "code",
   "execution_count": null,
   "metadata": {
    "collapsed": true
   },
   "outputs": [],
   "source": [
    "# Extraction based on class\n",
    "response.css('.first').xpath('./time/@datetime').extract #Remember to use the '.' to just get child elements"
   ]
  },
  {
   "cell_type": "markdown",
   "metadata": {},
   "source": [
    "### Using relative XPaths\n",
    "\n",
    "In order to make the crawler more robust to layout changes in the document, we should always try to use relative XPath starting at an Id or specific attribute level that is likely not to be used for layout purposes. \n",
    "\n",
    "Classes therefore tend to not be very robust, as they are often used for css layout."
   ]
  },
  {
   "cell_type": "code",
   "execution_count": null,
   "metadata": {
    "collapsed": true
   },
   "outputs": [],
   "source": [
    "# Basic Syntax\n",
    "response.xpath('//div')"
   ]
  },
  {
   "cell_type": "code",
   "execution_count": null,
   "metadata": {
    "collapsed": true
   },
   "outputs": [],
   "source": [
    "# Subsetting routines relative to a specific selector\n",
    "divs = response.xpath('//div')\n",
    "for p in divs.xpath('.//a'):\n",
    "    print(p.extract())\n",
    "    \n",
    "# This  again selects all <a> from the whole document\n",
    "for p in divs.xpath('//a'):\n",
    "    print(p.extract())"
   ]
  },
  {
   "cell_type": "code",
   "execution_count": null,
   "metadata": {
    "collapsed": true
   },
   "outputs": [],
   "source": [
    "# Using Variable statements to controll the scraping\n",
    "response.xpath('//div[count(a)=$cnt]/@id', cnt=5).extract_first()"
   ]
  },
  {
   "cell_type": "markdown",
   "metadata": {},
   "source": [
    "### Scraping with Regular Expression\n",
    "\n",
    "To conduct more precise selection, it is easy to make use of the whole arsenal of regular Expressions in Scrapy.\n"
   ]
  },
  {
   "cell_type": "code",
   "execution_count": null,
   "metadata": {
    "collapsed": true
   },
   "outputs": [],
   "source": [
    "# We can use the 'test' statement to probe a specific attribute for its content\n",
    "response.xpath('//li[re:test(@class, \"item-\\d$\")]//@href').extract()\n",
    "response.xpath('//a[re:test(@href, \"image\")]/@href').extract()"
   ]
  },
  {
   "cell_type": "markdown",
   "metadata": {},
   "source": [
    "### Set operations\n",
    "\n",
    "These can be used to exclude parts of the document before starting the scrape."
   ]
  },
  {
   "cell_type": "code",
   "execution_count": null,
   "metadata": {
    "collapsed": true
   },
   "outputs": [],
   "source": [
    "doc = \"\"\"\n",
    " <div itemscope itemtype=\"http://schema.org/Product\">\n",
    "   <span itemprop=\"name\">Kenmore White 17\" Microwave</span>\n",
    "   <img src=\"kenmore-microwave-17in.jpg\" alt='Kenmore 17\" Microwave' />\n",
    "   <div itemprop=\"aggregateRating\"\n",
    "     itemscope itemtype=\"http://schema.org/AggregateRating\">\n",
    "    Rated <span itemprop=\"ratingValue\">3.5</span>/5\n",
    "    based on <span itemprop=\"reviewCount\">11</span> customer reviews\n",
    "   </div>\n",
    "\n",
    "   <div itemprop=\"offers\" itemscope itemtype=\"http://schema.org/Offer\">\n",
    "     <span itemprop=\"price\">$55.00</span>\n",
    "     <link itemprop=\"availability\" href=\"http://schema.org/InStock\" />In stock\n",
    "   </div>\n",
    "\n",
    "   Product description:\n",
    "   <span itemprop=\"description\">0.7 cubic feet countertop microwave.\n",
    "   Has six preset cooking categories and convenience features like\n",
    "   Add-A-Minute and Child Lock.</span>\n",
    "\n",
    "   Customer reviews:\n",
    "\n",
    "   <div itemprop=\"review\" itemscope itemtype=\"http://schema.org/Review\">\n",
    "     <span itemprop=\"name\">Not a happy camper</span> -\n",
    "     by <span itemprop=\"author\">Ellie</span>,\n",
    "     <meta itemprop=\"datePublished\" content=\"2011-04-01\">April 1, 2011\n",
    "     <div itemprop=\"reviewRating\" itemscope itemtype=\"http://schema.org/Rating\">\n",
    "       <meta itemprop=\"worstRating\" content = \"1\">\n",
    "       <span itemprop=\"ratingValue\">1</span>/\n",
    "       <span itemprop=\"bestRating\">5</span>stars\n",
    "     </div>\n",
    "     <span itemprop=\"description\">The lamp burned out and now I have to replace\n",
    "     it. </span>\n",
    "   </div>\n",
    "\n",
    "   <div itemprop=\"review\" itemscope itemtype=\"http://schema.org/Review\">\n",
    "     <span itemprop=\"name\">Value purchase</span> -\n",
    "     by <span itemprop=\"author\">Lucas</span>,\n",
    "     <meta itemprop=\"datePublished\" content=\"2011-03-25\">March 25, 2011\n",
    "     <div itemprop=\"reviewRating\" itemscope itemtype=\"http://schema.org/Rating\">\n",
    "       <meta itemprop=\"worstRating\" content = \"1\"/>\n",
    "       <span itemprop=\"ratingValue\">4</span>/\n",
    "       <span itemprop=\"bestRating\">5</span>stars\n",
    "     </div>\n",
    "     <span itemprop=\"description\">Great microwave for the price. It is small and\n",
    "     fits in my apartment.</span>\n",
    "   </div>\n",
    "   \n",
    " </div>\n",
    " \"\"\"\n",
    "sel = Selector(text=doc, type='html')\n",
    "for scope in sel.xpath('//div[@itemscope]'):\n",
    "    print('current score:', scope.xpath('@itemtype').extract())\n",
    "    props = scope.xpath(\"\"\"\n",
    "        set:difference(./descendant::*/@itemprop,\n",
    "                       .//*[@itemscope]/*/@itemprop)\n",
    "    \"\"\")"
   ]
  },
  {
   "cell_type": "code",
   "execution_count": null,
   "metadata": {
    "collapsed": true
   },
   "outputs": [],
   "source": []
  }
 ],
 "metadata": {
  "kernelspec": {
   "display_name": "Python 3",
   "language": "python",
   "name": "python3"
  },
  "language_info": {
   "codemirror_mode": {
    "name": "ipython",
    "version": 3
   },
   "file_extension": ".py",
   "mimetype": "text/x-python",
   "name": "python",
   "nbconvert_exporter": "python",
   "pygments_lexer": "ipython3",
   "version": "3.6.0"
  }
 },
 "nbformat": 4,
 "nbformat_minor": 2
}
